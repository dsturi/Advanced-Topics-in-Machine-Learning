{
 "cells": [
  {
   "cell_type": "markdown",
   "id": "b4f87626",
   "metadata": {},
   "source": [
    "### Sheikh-Sedat Touray\n",
    "### DSP 566\n",
    "### Assignment 1\n",
    "### Summer 2024 "
   ]
  },
  {
   "cell_type": "markdown",
   "id": "f8e75979",
   "metadata": {},
   "source": [
    "# 1. Linear Regression of the Cars Data"
   ]
  },
  {
   "cell_type": "code",
   "execution_count": 487,
   "id": "0f36ec41",
   "metadata": {},
   "outputs": [],
   "source": [
    "#Import libraries \n",
    "import pandas as pd \n",
    "import numpy as np\n",
    "import matplotlib.pyplot as plt \n",
    "from sklearn.preprocessing import StandardScaler\n",
    "from sklearn.model_selection import train_test_split\n",
    "\n"
   ]
  },
  {
   "cell_type": "code",
   "execution_count": 488,
   "id": "752a9704",
   "metadata": {},
   "outputs": [
    {
     "data": {
      "text/html": [
       "<div>\n",
       "<style scoped>\n",
       "    .dataframe tbody tr th:only-of-type {\n",
       "        vertical-align: middle;\n",
       "    }\n",
       "\n",
       "    .dataframe tbody tr th {\n",
       "        vertical-align: top;\n",
       "    }\n",
       "\n",
       "    .dataframe thead th {\n",
       "        text-align: right;\n",
       "    }\n",
       "</style>\n",
       "<table border=\"1\" class=\"dataframe\">\n",
       "  <thead>\n",
       "    <tr style=\"text-align: right;\">\n",
       "      <th></th>\n",
       "      <th>Unnamed: 0</th>\n",
       "      <th>mpg</th>\n",
       "      <th>cyl</th>\n",
       "      <th>disp</th>\n",
       "      <th>hp</th>\n",
       "      <th>drat</th>\n",
       "      <th>wt</th>\n",
       "      <th>qsec</th>\n",
       "      <th>vs</th>\n",
       "      <th>am</th>\n",
       "      <th>gear</th>\n",
       "      <th>carb</th>\n",
       "    </tr>\n",
       "  </thead>\n",
       "  <tbody>\n",
       "    <tr>\n",
       "      <th>0</th>\n",
       "      <td>Mazda RX4</td>\n",
       "      <td>21.0</td>\n",
       "      <td>6</td>\n",
       "      <td>160.0</td>\n",
       "      <td>110</td>\n",
       "      <td>3.90</td>\n",
       "      <td>2.620</td>\n",
       "      <td>16.46</td>\n",
       "      <td>0</td>\n",
       "      <td>1</td>\n",
       "      <td>4</td>\n",
       "      <td>4</td>\n",
       "    </tr>\n",
       "    <tr>\n",
       "      <th>1</th>\n",
       "      <td>Mazda RX4 Wag</td>\n",
       "      <td>21.0</td>\n",
       "      <td>6</td>\n",
       "      <td>160.0</td>\n",
       "      <td>110</td>\n",
       "      <td>3.90</td>\n",
       "      <td>2.875</td>\n",
       "      <td>17.02</td>\n",
       "      <td>0</td>\n",
       "      <td>1</td>\n",
       "      <td>4</td>\n",
       "      <td>4</td>\n",
       "    </tr>\n",
       "    <tr>\n",
       "      <th>2</th>\n",
       "      <td>Datsun 710</td>\n",
       "      <td>22.8</td>\n",
       "      <td>4</td>\n",
       "      <td>108.0</td>\n",
       "      <td>93</td>\n",
       "      <td>3.85</td>\n",
       "      <td>2.320</td>\n",
       "      <td>18.61</td>\n",
       "      <td>1</td>\n",
       "      <td>1</td>\n",
       "      <td>4</td>\n",
       "      <td>1</td>\n",
       "    </tr>\n",
       "    <tr>\n",
       "      <th>3</th>\n",
       "      <td>Hornet 4 Drive</td>\n",
       "      <td>21.4</td>\n",
       "      <td>6</td>\n",
       "      <td>258.0</td>\n",
       "      <td>110</td>\n",
       "      <td>3.08</td>\n",
       "      <td>3.215</td>\n",
       "      <td>19.44</td>\n",
       "      <td>1</td>\n",
       "      <td>0</td>\n",
       "      <td>3</td>\n",
       "      <td>1</td>\n",
       "    </tr>\n",
       "    <tr>\n",
       "      <th>4</th>\n",
       "      <td>Hornet Sportabout</td>\n",
       "      <td>18.7</td>\n",
       "      <td>8</td>\n",
       "      <td>360.0</td>\n",
       "      <td>175</td>\n",
       "      <td>3.15</td>\n",
       "      <td>3.440</td>\n",
       "      <td>17.02</td>\n",
       "      <td>0</td>\n",
       "      <td>0</td>\n",
       "      <td>3</td>\n",
       "      <td>2</td>\n",
       "    </tr>\n",
       "  </tbody>\n",
       "</table>\n",
       "</div>"
      ],
      "text/plain": [
       "          Unnamed: 0   mpg  cyl   disp   hp  drat     wt   qsec  vs  am  gear  \\\n",
       "0          Mazda RX4  21.0    6  160.0  110  3.90  2.620  16.46   0   1     4   \n",
       "1      Mazda RX4 Wag  21.0    6  160.0  110  3.90  2.875  17.02   0   1     4   \n",
       "2         Datsun 710  22.8    4  108.0   93  3.85  2.320  18.61   1   1     4   \n",
       "3     Hornet 4 Drive  21.4    6  258.0  110  3.08  3.215  19.44   1   0     3   \n",
       "4  Hornet Sportabout  18.7    8  360.0  175  3.15  3.440  17.02   0   0     3   \n",
       "\n",
       "   carb  \n",
       "0     4  \n",
       "1     4  \n",
       "2     1  \n",
       "3     1  \n",
       "4     2  "
      ]
     },
     "execution_count": 488,
     "metadata": {},
     "output_type": "execute_result"
    }
   ],
   "source": [
    "# upload data as a data frame and view 5 observations \n",
    "df = pd.read_csv(\"cars.csv\")\n",
    "df.head()"
   ]
  },
  {
   "cell_type": "code",
   "execution_count": 489,
   "id": "ba360f73",
   "metadata": {},
   "outputs": [
    {
     "name": "stdout",
     "output_type": "stream",
     "text": [
      "<class 'pandas.core.frame.DataFrame'>\n",
      "RangeIndex: 32 entries, 0 to 31\n",
      "Data columns (total 12 columns):\n",
      " #   Column      Non-Null Count  Dtype  \n",
      "---  ------      --------------  -----  \n",
      " 0   Unnamed: 0  32 non-null     object \n",
      " 1   mpg         32 non-null     float64\n",
      " 2   cyl         32 non-null     int64  \n",
      " 3   disp        32 non-null     float64\n",
      " 4   hp          32 non-null     int64  \n",
      " 5   drat        32 non-null     float64\n",
      " 6   wt          32 non-null     float64\n",
      " 7   qsec        32 non-null     float64\n",
      " 8   vs          32 non-null     int64  \n",
      " 9   am          32 non-null     int64  \n",
      " 10  gear        32 non-null     int64  \n",
      " 11  carb        32 non-null     int64  \n",
      "dtypes: float64(5), int64(6), object(1)\n",
      "memory usage: 3.1+ KB\n"
     ]
    }
   ],
   "source": [
    "df.info()"
   ]
  },
  {
   "cell_type": "code",
   "execution_count": 490,
   "id": "367aec88",
   "metadata": {},
   "outputs": [
    {
     "data": {
      "text/plain": [
       "20.090625000000003"
      ]
     },
     "execution_count": 490,
     "metadata": {},
     "output_type": "execute_result"
    }
   ],
   "source": [
    "#Drop the car type column\n",
    "df = df.drop(\"Unnamed: 0\", axis=1)\n",
    "# Examnine the mean to be able to do a quick check to see how my predictions are doing\n",
    "df[\"mpg\"].mean()"
   ]
  },
  {
   "cell_type": "markdown",
   "id": "d5978d9f",
   "metadata": {},
   "source": [
    "### Unscaled Data Regression "
   ]
  },
  {
   "cell_type": "code",
   "execution_count": 491,
   "id": "e269dc9d",
   "metadata": {},
   "outputs": [],
   "source": [
    "# Define the class for the linear regression \n",
    "class LinearRegressionGD:\n",
    "    def __init__(self, eta=0.01, n_iter=20, random_state=1):\n",
    "        self.eta = eta        # Learning rate\n",
    "        self.n_iter = n_iter  # Number of iterations\n",
    "        self.random_state = random_state  # Seed for random number generation\n",
    "\n",
    "    def fit(self, X, y):\n",
    "        \"\"\"Fit training data.\"\"\"\n",
    "\n",
    "        rgen = np.random.RandomState(self.random_state)\n",
    "        self.w_ = rgen.normal(loc=0.0, scale=0.01, size=X.shape[1])\n",
    "        self.b_ = np.float_(0.)\n",
    "        \n",
    "        self.cost_ = []\n",
    "        \n",
    "        #Full batch gradient descent\n",
    "        for i in range(self.n_iter):\n",
    "            # Compute predictions\n",
    "            y_pred = self.net_input(X)\n",
    "            \n",
    "            # Compute gradients and Update weights and bias\n",
    "            errors = y - y_pred\n",
    "            self.w_ += self.eta * X.T.dot(errors) / len(y)\n",
    "            self.b_ += self.eta * errors.mean()\n",
    "            cost = (errors**2).sum() / (2.0 * len(y))\n",
    "            self.cost_.append(cost)\n",
    "            # Print cost every 8 iterations\n",
    "            if i % 16 == 0:\n",
    "                print(f\"Iteration {i}, Cost: {cost}\")\n",
    "        return self\n",
    "\n",
    "    def net_input(self, X):\n",
    "        \"\"\"Calculate net input\"\"\"\n",
    "        return np.dot(X, self.w_) + self.b_\n",
    "\n",
    "    def predict(self, X):\n",
    "        \"\"\"Return continuous output\"\"\"\n",
    "        return self.net_input(X)"
   ]
  },
  {
   "cell_type": "code",
   "execution_count": 492,
   "id": "48fde477",
   "metadata": {},
   "outputs": [],
   "source": [
    "# split the data into the target and predictors \n",
    "X = df.drop(\"mpg\", axis=1).values\n",
    "y = df[\"mpg\"].values\n",
    "\n",
    "# Split data into training and testing sets\n",
    "X_train, X_test, y_train, y_test = train_test_split(X, y, test_size=0.2, random_state=10)\n"
   ]
  },
  {
   "cell_type": "code",
   "execution_count": 493,
   "id": "ee18fd8b",
   "metadata": {},
   "outputs": [
    {
     "name": "stdout",
     "output_type": "stream",
     "text": [
      "Iteration 0, Cost: 273.97932951761663\n",
      "Iteration 16, Cost: 2.5005709508134284e+98\n",
      "Linear Regression Predictions: [-3.23520020e+61 -2.43782288e+61 -1.43911215e+61 -7.07102338e+60\n",
      " -3.76568104e+61 -6.85015624e+60 -3.21803001e+61 -2.43777815e+61\n",
      " -3.15522820e+61 -3.19695272e+61 -3.19806280e+61 -2.49780442e+61\n",
      " -1.53802954e+61 -1.04328234e+61 -1.19079063e+61 -1.26204279e+61\n",
      " -1.11577840e+61 -3.66206139e+61 -7.60173505e+60 -7.58514502e+60\n",
      " -1.43889423e+61 -3.72927930e+61 -2.94608458e+61 -1.59746443e+61\n",
      " -1.53781702e+61]\n",
      "Linear Regression Predictions: [-1.13877416e+61 -1.16967606e+61 -1.82806733e+61 -1.04692860e+61\n",
      " -2.05417436e+61 -2.58542143e+61 -2.43796840e+61]\n",
      "Mean Squared Error on Train Set: 5.536756845467748e+122\n",
      "Mean Squared Error on Test Set: 3.421509217148715e+122\n"
     ]
    }
   ],
   "source": [
    "#Define the model and fit it to train set \n",
    "lin_reg = LinearRegressionGD(eta=0.01, n_iter=20)\n",
    "lin_reg.fit(X_train, y_train)\n",
    "\n",
    "#Predict on train\n",
    "predictions3 = lin_reg.predict(X_train)\n",
    "print(\"Linear Regression Predictions:\", predictions3)\n",
    "\n",
    "#Predict on new case (unseen data)\n",
    "predictions4 = lin_reg.predict(X_test)\n",
    "print(\"Linear Regression Predictions:\", predictions4)\n",
    "\n",
    "# Calculate the mean squared error on the train set\n",
    "mse3 = ((y_train - predictions3) ** 2).mean()\n",
    "print(\"Mean Squared Error on Train Set:\", mse3)\n",
    "\n",
    "# Calculate the mean squared error on the test set\n",
    "mse4 = ((y_test - predictions4) ** 2).mean()\n",
    "print(\"Mean Squared Error on Test Set:\", mse4)\n"
   ]
  },
  {
   "cell_type": "code",
   "execution_count": 494,
   "id": "5b449f41",
   "metadata": {},
   "outputs": [
    {
     "name": "stdout",
     "output_type": "stream",
     "text": [
      "Loss history: [273.97932951761663, 170746581.2747234, 175140758470873.28, 1.796527176804115e+20, 1.842809149414101e+26, 1.8902834340713555e+32, 1.9389807470082532e+38, 1.9889325957700603e+44, 2.0401712995966082e+50, 2.0927300103330975e+56, 2.1466427338796045e+62, 2.2019443521931615e+68, 2.258670645856664e+74, 2.3168583172291865e+80, 2.3765450141926983e+86, 2.4377693545105426e+92, 2.5005709508134284e+98, 2.564990436229117e+104, 2.6310694906723803e+110, 2.6988508678122287e+116]\n"
     ]
    }
   ],
   "source": [
    "# Access loss history\n",
    "print(\"Loss history:\", lin_reg.cost_)"
   ]
  },
  {
   "cell_type": "code",
   "execution_count": 495,
   "id": "8f2c4dac",
   "metadata": {},
   "outputs": [
    {
     "name": "stdout",
     "output_type": "stream",
     "text": [
      "Iteration 0, Cost: 551.3615589955812\n",
      "Iteration 16, Cost: 6.488415784781767e+98\n",
      "First few predictions: [-1.83429488e+61 -1.88407153e+61 -2.94460296e+61 -1.68635078e+61\n",
      " -3.30881440e+61]\n",
      "Mean Squared Error on Train Set: 1.4365725447972076e+123\n",
      "Mean Squared Error on Test Set: 8.87743400776647e+122\n"
     ]
    }
   ],
   "source": [
    "\n",
    "\n",
    "\n",
    "# Define the class for the linear regression without the bias \n",
    "\n",
    "class LinearRegressionGD:\n",
    "    def __init__(self, eta=0.01, n_iter=10, random_state=1):\n",
    "        self.eta = eta        # Learning rate\n",
    "        self.n_iter = n_iter  # Number of iterations\n",
    "        self.random_state = random_state  # Seed for random number generation\n",
    "\n",
    "    def fit(self, X, y):\n",
    "        \"\"\"Fit training data.\"\"\"\n",
    "        rgen = np.random.RandomState(self.random_state)\n",
    "        self.w_ = rgen.normal(loc=0.0, scale=0.05, size=X.shape[1])\n",
    "        \n",
    "        self.cost_ = []\n",
    "        \n",
    "        for i in range(self.n_iter):\n",
    "            # Compute predictions\n",
    "            y_pred = self.net_input(X)\n",
    "            \n",
    "            # Compute gradients and Update weights\n",
    "            errors = y - y_pred\n",
    "            self.w_ += self.eta * X.T.dot(errors) / len(y)\n",
    "            \n",
    "            # Compute cost (MSE)\n",
    "            cost = (errors**2).sum() / (2.0 * len(y))\n",
    "            self.cost_.append(cost)\n",
    "            \n",
    "            # Print cost every 16 iterations\n",
    "            if i % 16 == 0:\n",
    "                print(f\"Iteration {i}, Cost: {cost}\")\n",
    "        return self\n",
    "\n",
    "    def net_input(self, X):\n",
    "        \"\"\"Calculate net input\"\"\"\n",
    "        return np.dot(X, self.w_)\n",
    "\n",
    "    def predict(self, X):\n",
    "        \"\"\"Return continuous output\"\"\"\n",
    "        return self.net_input(X)\n",
    "    \n",
    "    \n",
    "\n",
    "\n",
    "# Initialize and train the model\n",
    "model = LinearRegressionGD(eta=0.01, n_iter=20, random_state=1)\n",
    "model.fit(X_train, y_train)\n",
    "\n",
    "# Make predictions\n",
    "y_predcar2 = model.predict(X_test)\n",
    "\n",
    "# Make predictions\n",
    "y_predcar1 = model.predict(X_train)\n",
    "\n",
    "# Print first few predictions\n",
    "print(\"First few predictions:\", y_predcar[:5])\n",
    "\n",
    "# Calculate the mean squared error on the train set\n",
    "mse1 = ((y_train - y_predcar1) ** 2).mean()\n",
    "print(\"Mean Squared Error on Train Set:\", mse1)\n",
    "\n",
    "# Calculate the mean squared error on the test set\n",
    "mse2 = ((y_test - y_predcar2) ** 2).mean()\n",
    "print(\"Mean Squared Error on Test Set:\", mse2)\n"
   ]
  },
  {
   "cell_type": "markdown",
   "id": "97dfa0f7",
   "metadata": {},
   "source": [
    "The unscaled data was not converging and I had to carefully choose the learning rate and the number of iterations because if the learning rate is too high it leads nan values and if the number of iterations is too high it leads to inf values. So I had to choose a low learning rate and and a low number of iterations and it was still performing poorly. It did not matter with or without the bias it did not affect my results they have exactly the same MSEs on the test and training. It only gave a higher cost. "
   ]
  },
  {
   "cell_type": "markdown",
   "id": "578ecbc1",
   "metadata": {},
   "source": [
    "### Scaled Data Regression "
   ]
  },
  {
   "cell_type": "code",
   "execution_count": 496,
   "id": "b4c51c64",
   "metadata": {},
   "outputs": [
    {
     "name": "stdout",
     "output_type": "stream",
     "text": [
      "Iteration 0, Cost: 231.10569014150485\n",
      "Iteration 16, Cost: 6.047025526681161\n",
      "Iteration 32, Cost: 2.496487348234512\n",
      "Iteration 48, Cost: 2.3971281301495218\n",
      "Iteration 64, Cost: 2.3678537044525583\n",
      "Iteration 80, Cost: 2.346573603203118\n",
      "Iteration 96, Cost: 2.330040469082945\n",
      "Predictions: [22.14190714 19.67889112 26.15453051 17.17829964 11.61698806 15.75483479\n",
      " 18.83812707]\n",
      "Weights: [-0.35539802 -0.47023782 -0.64722907  0.56336913 -1.59098247  0.66675844\n",
      "  0.40628303  1.85679508  0.02019162 -1.21314122]\n",
      "Bias: 20.535942352155846\n",
      "Mean Squared Error on Train Set: 4.652962328931561\n",
      "Mean Squared Error on Test Set: 6.442833432716475\n"
     ]
    }
   ],
   "source": [
    "\n",
    "X = df.drop(\"mpg\", axis=1).values\n",
    "y = df[\"mpg\"].values\n",
    "# Split data into training and testing sets\n",
    "X_train, X_test, y_train, y_test = train_test_split(X, y, test_size=0.2, random_state=60)\n",
    "\n",
    "# Scale the data\n",
    "scaler = StandardScaler()\n",
    "X_train_scaled = scaler.fit_transform(X_train)\n",
    "X_test_scaled = scaler.transform(X_test)\n",
    "\n",
    "class LinearRegressionGD:\n",
    "    def __init__(self, eta=0.12, n_iter=100, random_state=1):\n",
    "        self.eta = eta        # Learning rate\n",
    "        self.n_iter = n_iter  # Number of iterations\n",
    "        self.random_state = random_state  # Seed for random number generation\n",
    "\n",
    "    def fit(self, X, y):\n",
    "        \"\"\"Fit training data.\"\"\"\n",
    "        rgen = np.random.RandomState(self.random_state)\n",
    "        self.w_ = rgen.normal(loc=0.0, scale=0.05, size=X.shape[1])\n",
    "        self.b_ = np.float_(0.)\n",
    "        \n",
    "        self.cost_ = []\n",
    "        \n",
    "        # Full batch gradient descent\n",
    "        for i in range(self.n_iter):\n",
    "            # Compute predictions\n",
    "            y_pred = self.net_input(X)\n",
    "            \n",
    "            # Compute gradients and Update weights and bias\n",
    "            errors = y - y_pred\n",
    "            self.w_ += self.eta * X.T.dot(errors) / len(y)\n",
    "            self.b_ += self.eta * errors.mean()\n",
    "            cost = (errors**2).sum() / (2.0 * len(y))\n",
    "            self.cost_.append(cost)\n",
    "            # Print cost every 16 iterations\n",
    "            if i % 16 == 0:\n",
    "                print(f\"Iteration {i}, Cost: {cost}\")\n",
    "        return self\n",
    "\n",
    "    def net_input(self, X):\n",
    "        \"\"\"Calculate net input\"\"\"\n",
    "        return np.dot(X, self.w_) + self.b_\n",
    "\n",
    "    def predict(self, X):\n",
    "        \"\"\"Return continuous output\"\"\"\n",
    "        return self.net_input(X)\n",
    "\n",
    "# Initialize and fit the model\n",
    "model = LinearRegressionGD(eta=0.12, n_iter=100, random_state=1)\n",
    "model.fit(X_train_scaled, y_train)\n",
    "\n",
    "# Make predictions on the train set\n",
    "predictionst = model.predict(X_train_scaled)\n",
    "\n",
    "# Make predictions on the test set\n",
    "predictions = model.predict(X_test_scaled)\n",
    "print(\"Predictions:\", predictions)\n",
    "\n",
    "# Print the final weights\n",
    "print(\"Weights:\", model.w_)\n",
    "print(\"Bias:\", model.b_)\n",
    "\n",
    "# Calculate the mean squared error on the train set\n",
    "msetn = ((y_train - predictionst) ** 2).mean()\n",
    "print(\"Mean Squared Error on Train Set:\", msetn)\n",
    "\n",
    "# Calculate the mean squared error on the test set\n",
    "msett = ((y_test - predictions) ** 2).mean()\n",
    "print(\"Mean Squared Error on Test Set:\", msett)"
   ]
  },
  {
   "cell_type": "code",
   "execution_count": 497,
   "id": "26b5fda9",
   "metadata": {},
   "outputs": [
    {
     "name": "stdout",
     "output_type": "stream",
     "text": [
      "Mean Squared Error on Test Set: 6.442833432716475\n",
      "Actual MPG values: [24.4 19.7 21.4 15.2 10.4]\n",
      "Predicted MPG values: [22.14190714 19.67889112 26.15453051 17.17829964 11.61698806]\n"
     ]
    }
   ],
   "source": [
    "# Calculate the mean squared error on the test set\n",
    "mse = ((y_test - predictions) ** 2).mean()\n",
    "print(\"Mean Squared Error on Test Set:\", mse)\n",
    "\n",
    "# Print a few predictions to check how the model works\n",
    "print(\"Actual MPG values:\", y_test[:5])\n",
    "print(\"Predicted MPG values:\", predictions[:5])"
   ]
  },
  {
   "cell_type": "code",
   "execution_count": 498,
   "id": "8b69826b",
   "metadata": {},
   "outputs": [
    {
     "data": {
      "image/png": "[encoded data removed]",
      "text/plain": [
       "<Figure size 1000x600 with 1 Axes>"
      ]
     },
     "metadata": {},
     "output_type": "display_data"
    },
    {
     "data": {
      "image/png": "[encoded data removed]",
      "text/plain": [
       "<Figure size 1000x600 with 1 Axes>"
      ]
     },
     "metadata": {},
     "output_type": "display_data"
    }
   ],
   "source": [
    "\n",
    "# Plot the predicted vs actual MPG values\n",
    "plt.figure(figsize=(10, 6))\n",
    "plt.scatter(y_test, predictions, color='blue', edgecolors='k', alpha=0.7)\n",
    "plt.plot([y_test.min(), y_test.max()], [y_test.min(), y_test.max()], color='red', lw=2)\n",
    "plt.xlabel('Actual MPG')\n",
    "plt.ylabel('Predicted MPG')\n",
    "plt.title('Actual vs Predicted MPG')\n",
    "plt.grid(True)\n",
    "plt.show()\n",
    "\n",
    "# Plot the cost function over iterations\n",
    "plt.figure(figsize=(10, 6))\n",
    "plt.plot(range(1, model.n_iter + 1), model.cost_, marker='o')\n",
    "plt.xlabel('Iterations')\n",
    "plt.ylabel('Cost')\n",
    "plt.title('Cost Function over Iterations')\n",
    "plt.grid(True)\n",
    "plt.show()"
   ]
  },
  {
   "cell_type": "markdown",
   "id": "96bb2a62",
   "metadata": {},
   "source": [
    "### Sk learn method Regression "
   ]
  },
  {
   "cell_type": "code",
   "execution_count": 499,
   "id": "c4f851c4",
   "metadata": {},
   "outputs": [],
   "source": [
    "#Import libraries \n",
    "from sklearn import datasets, linear_model\n",
    "from sklearn.linear_model import LinearRegression\n",
    "from sklearn.metrics import mean_squared_error, r2_score"
   ]
  },
  {
   "cell_type": "code",
   "execution_count": 500,
   "id": "05e427c5",
   "metadata": {},
   "outputs": [
    {
     "name": "stdout",
     "output_type": "stream",
     "text": [
      "Coefficients: \n",
      " [-0.08947505  0.71320507 -0.59854114  0.5321993  -2.88972752  1.72323624\n",
      "  0.16119722  2.34203831 -0.23581956 -0.80473128]\n",
      "Mean squared error: 6.80\n",
      "Coefficient of determination: 0.61\n"
     ]
    }
   ],
   "source": [
    "# Create linear regression object\n",
    "regr = linear_model.LinearRegression()\n",
    "\n",
    "# Train the model using the training sets\n",
    "regr.fit(X_train_scaled,y_train)\n",
    "\n",
    "# Make predictions using the testing set\n",
    "y_pred = regr.predict(X_test_scaled)\n",
    "\n",
    "# The coefficients\n",
    "print(\"Coefficients: \\n\", regr.coef_)\n",
    "# The mean squared error\n",
    "print(\"Mean squared error: %.2f\" % mean_squared_error(y_test,y_pred))\n",
    "# The coefficient of determination: 1 is perfect prediction\n",
    "print(\"Coefficient of determination: %.2f\" % r2_score(y_test,y_pred))\n",
    "\n"
   ]
  },
  {
   "cell_type": "code",
   "execution_count": 501,
   "id": "6b16077d",
   "metadata": {},
   "outputs": [
    {
     "data": {
      "image/png": "[encoded data removed]",
      "text/plain": [
       "<Figure size 1000x600 with 1 Axes>"
      ]
     },
     "metadata": {},
     "output_type": "display_data"
    }
   ],
   "source": [
    "# Plot the predicted vs actual MPG values\n",
    "plt.figure(figsize=(10, 6))\n",
    "plt.scatter(y_test, y_pred, color='blue', edgecolors='k', alpha=0.7)\n",
    "plt.plot([y_test.min(), y_test.max()], [y_test.min(), y_test.max()], color='red', lw=2)\n",
    "plt.xlabel('Actual MPG')\n",
    "plt.ylabel('Predicted MPG')\n",
    "plt.title('Actual vs Predicted MPG')\n",
    "plt.grid(True)\n",
    "plt.show()"
   ]
  },
  {
   "cell_type": "markdown",
   "id": "7242deda",
   "metadata": {},
   "source": [
    "As can be seen by comparing both models MSEs, my algorithm performed better than the SkLearn linear model. "
   ]
  },
  {
   "cell_type": "markdown",
   "id": "96d0ab27",
   "metadata": {},
   "source": [
    "# 2. Logistic Regression of the Breast Cancer Data"
   ]
  },
  {
   "cell_type": "code",
   "execution_count": 527,
   "id": "10dec783",
   "metadata": {},
   "outputs": [],
   "source": [
    "# Import libraries \n",
    "from sklearn.datasets import load_breast_cancer\n",
    "from sklearn.metrics import accuracy_score, roc_auc_score, roc_auc_score, roc_curve, auc\n",
    "from sklearn.metrics import accuracy_score, classification_report, confusion_matrix\n",
    "from sklearn.linear_model import LogisticRegression\n",
    "\n",
    "#load cancer data\n",
    "cancer = load_breast_cancer()"
   ]
  },
  {
   "cell_type": "code",
   "execution_count": 528,
   "id": "62ffea75",
   "metadata": {},
   "outputs": [
    {
     "name": "stdout",
     "output_type": "stream",
     "text": [
      "(569, 30)\n",
      "(569,)\n"
     ]
    }
   ],
   "source": [
    "# Load the breast cancer dataset\n",
    "cancer = load_breast_cancer()\n",
    "X = cancer.data\n",
    "y = cancer.target\n",
    "\n",
    "#print shape to see number of observations and columns\n",
    "print(X.shape)\n",
    "print(y.shape)"
   ]
  },
  {
   "cell_type": "code",
   "execution_count": 529,
   "id": "6948b0b7",
   "metadata": {},
   "outputs": [],
   "source": [
    "# Split into training and testing sets\n",
    "X_can_train, X_can_test, y_can_train, y_can_test = train_test_split(X, y, test_size=0.2, random_state=5)"
   ]
  },
  {
   "cell_type": "code",
   "execution_count": 530,
   "id": "b860d403",
   "metadata": {},
   "outputs": [],
   "source": [
    "class LogisticRegressionGD:\n",
    "    def __init__(self, eta=0.01, n_iter=100, random_state=3):\n",
    "        self.eta = eta        # Learning rate\n",
    "        self.n_iter = n_iter  # Number of iterations\n",
    "        self.random_state = random_state  # Seed for random number generation\n",
    "\n",
    "    def fit(self, X, y):\n",
    "        \"\"\"Fit training data.\"\"\"\n",
    "        rgen = np.random.RandomState(self.random_state)\n",
    "        self.w_ = rgen.normal(loc=0.0, scale=0.01, size=X.shape[1])\n",
    "        self.b_ = np.float_(0.)\n",
    "        \n",
    "        self.cost_ = []\n",
    "        \n",
    "        # Full batch gradient descent\n",
    "        for i in range(self.n_iter):\n",
    "            # Compute predictions\n",
    "            y_pred = self.sigmoid(self.net_input(X))\n",
    "            \n",
    "            # Compute gradients and update weights and bias\n",
    "            errors = y - y_pred\n",
    "            self.w_ += self.eta * X.T.dot(errors) / len(y)\n",
    "            self.b_ += self.eta * errors.mean()\n",
    "            cost = -y.dot(np.log(y_pred)) - ((1 - y).dot(np.log(1 - y_pred)))\n",
    "            self.cost_.append(cost)\n",
    "            \n",
    "            # Print cost every 8 iterations\n",
    "            if i % 8 == 0:\n",
    "                #print(f\"Iteration {i}, Cost: {cost}\")\n",
    "                return self\n",
    "\n",
    "    def net_input(self, X):\n",
    "        \"\"\"Calculate net input\"\"\"\n",
    "        return np.dot(X, self.w_) + self.b_\n",
    "\n",
    "    def sigmoid(self, z):\n",
    "        \"\"\"Compute the sigmoid function\"\"\"\n",
    "        return 1 / (1 + np.exp(-z))\n",
    "\n",
    "    def predict_proba(self, X):\n",
    "        \"\"\"Return probability estimates for the positive class\"\"\"\n",
    "        return self.sigmoid(self.net_input(X))\n",
    "\n",
    "    def predict(self, X):\n",
    "        \"\"\"Return class label after thresholding at 0.5\"\"\"\n",
    "        return np.where(self.predict_proba(X) >= 0.5, 1, 0)"
   ]
  },
  {
   "cell_type": "code",
   "execution_count": 531,
   "id": "b0df375d",
   "metadata": {},
   "outputs": [
    {
     "name": "stdout",
     "output_type": "stream",
     "text": [
      "Accuracy: 0.58\n",
      "ROC AUC: 0.50\n"
     ]
    }
   ],
   "source": [
    "# Create logistic regression object\n",
    "log_regr = LogisticRegressionGD(eta=1e-5, n_iter=100, random_state=5)\n",
    "\n",
    "# Train the model using the training sets\n",
    "log_regr.fit(X_can_train, y_can_train)\n",
    "\n",
    "# Make predictions using the testing set\n",
    "y_can_pred = log_regr.predict(X_can_test)\n",
    "\n",
    "# Calculate accuracy and ROC AUC score\n",
    "accuracy = accuracy_score(y_can_test, y_can_pred)\n",
    "roc_auc = roc_auc_score(y_can_test, log_regr.predict(X_can_test))\n",
    "\n",
    "print(f\"Accuracy: {accuracy:.2f}\")\n",
    "print(f\"ROC AUC: {roc_auc:.2f}\")\n"
   ]
  },
  {
   "cell_type": "code",
   "execution_count": 533,
   "id": "c2664f90",
   "metadata": {},
   "outputs": [
    {
     "data": {
      "image/png": "[encoded data removed]",
      "text/plain": [
       "<Figure size 640x480 with 1 Axes>"
      ]
     },
     "metadata": {},
     "output_type": "display_data"
    }
   ],
   "source": [
    "# Plot ROC curve\n",
    "\n",
    "fpr, tpr, thresholds = roc_curve(y_can_test, log_regr.sigmoid(log_regr.net_input(X_can_test)))\n",
    "plt.figure()\n",
    "plt.plot(fpr, tpr, color='darkorange', lw=2, label=f'ROC curve (area = {roc_auc:.2f})')\n",
    "plt.plot([0, 1], [0, 1], color='navy', lw=2, linestyle='--')\n",
    "plt.xlim([0.0, 1.0])\n",
    "plt.ylim([0.0, 1.05])\n",
    "plt.xlabel('False Positive Rate')\n",
    "plt.ylabel('True Positive Rate')\n",
    "plt.title('Receiver Operating Characteristic')\n",
    "plt.legend(loc=\"lower right\")\n",
    "plt.show()"
   ]
  },
  {
   "cell_type": "markdown",
   "id": "3d305ed9",
   "metadata": {},
   "source": [
    "For the unscaled data the model was performing very poorly and I was have trouble making it converge until when I significantly reduced the learning rate it converged. Also the accuracy decreases as I decrease the number of epochs. current it shows 58 percent but when I decrease the number of iterations to 50 the accuracy also decreases to about 38%. However, when I increased the number of interations to 1000, the accuracy also went up to 96%. However, I believe that at that point it might be overfitting because when I observed the cost over iteration plot, it seemed to have had a lot of noise. And the AUC area under the curve is not good but average. "
   ]
  },
  {
   "cell_type": "code",
   "execution_count": 525,
   "id": "cb7e12af",
   "metadata": {},
   "outputs": [
    {
     "name": "stdout",
     "output_type": "stream",
     "text": [
      "\n",
      "Classification Report:\n",
      "              precision    recall  f1-score   support\n",
      "\n",
      "           0       1.00      0.05      0.09        43\n",
      "           1       0.63      1.00      0.78        71\n",
      "\n",
      "    accuracy                           0.64       114\n",
      "   macro avg       0.82      0.52      0.43       114\n",
      "weighted avg       0.77      0.64      0.52       114\n",
      "\n",
      "\n",
      "Confusion Matrix:\n",
      "[[ 2 41]\n",
      " [ 0 71]]\n"
     ]
    }
   ],
   "source": [
    "set.seed(1)\n",
    "#print metrics \n",
    "print(\"\\nClassification Report:\")\n",
    "print(classification_report(y_can_test, y_can_pred))\n",
    "print(\"\\nConfusion Matrix:\")\n",
    "print(confusion_matrix(y_can_test, y_can_pred))"
   ]
  },
  {
   "cell_type": "code",
   "execution_count": 517,
   "id": "3a77283e",
   "metadata": {},
   "outputs": [],
   "source": [
    "class LogisticRegressionGD:\n",
    "    def __init__(self, eta=0.1, n_iter=100, random_state=11):\n",
    "        self.eta = eta        # Learning rate\n",
    "        self.n_iter = n_iter  # Number of iterations\n",
    "        self.random_state = random_state  # Seed for random number generation\n",
    "\n",
    "    def fit(self, X, y):\n",
    "        \"\"\"Fit training data.\"\"\"\n",
    "        rgen = np.random.RandomState(self.random_state)\n",
    "        self.w_ = rgen.normal(loc=0.0, scale=0.01, size=X.shape[1])\n",
    "        self.b_ = np.float_(0.)\n",
    "        \n",
    "        self.cost_ = []\n",
    "        \n",
    "        # Full batch gradient descent\n",
    "        for i in range(self.n_iter):\n",
    "            # Compute predictions\n",
    "            y_pred = self.sigmoid(self.net_input(X))\n",
    "            \n",
    "            # Compute gradients and update weights and bias\n",
    "            errors = y - y_pred\n",
    "            self.w_ += self.eta * X.T.dot(errors) / len(y)\n",
    "            self.b_ += self.eta * errors.mean()\n",
    "            cost = -y.dot(np.log(y_pred)) - ((1 - y).dot(np.log(1 - y_pred)))\n",
    "            self.cost_.append(cost)\n",
    "            \n",
    "            # Print cost every 8 iterations\n",
    "            if i % 8 == 0:\n",
    "                #print(f\"Iteration {i}, Cost: {cost}\")\n",
    "                return self\n",
    "\n",
    "    def net_input(self, X):\n",
    "        \"\"\"Calculate net input\"\"\"\n",
    "        return np.dot(X, self.w_) + self.b_\n",
    "\n",
    "    def sigmoid(self, z):\n",
    "        \"\"\"Compute the sigmoid function\"\"\"\n",
    "        return 1 / (1 + np.exp(-z))\n",
    "\n",
    "    def predict_proba(self, X):\n",
    "        \"\"\"Return probability estimates for the positive class\"\"\"\n",
    "        return self.sigmoid(self.net_input(X))\n",
    "\n",
    "    def predict(self, X):\n",
    "        \"\"\"Return class label after thresholding at 0.5\"\"\"\n",
    "        return np.where(self.predict_proba(X) >= 0.5, 1, 0)"
   ]
  },
  {
   "cell_type": "code",
   "execution_count": 520,
   "id": "ff3b92f5",
   "metadata": {},
   "outputs": [
    {
     "name": "stdout",
     "output_type": "stream",
     "text": [
      "Accuracy: 0.96\n",
      "ROC AUC: 1.00\n"
     ]
    }
   ],
   "source": [
    "# Load the breast cancer dataset\n",
    "cancer = load_breast_cancer()\n",
    "X = cancer.data\n",
    "y = cancer.target\n",
    "# Split into training and testing sets\n",
    "X_can_train, X_can_test, y_can_train, y_can_test = train_test_split(X, y, test_size=0.2, random_state=42)\n",
    "# Standardize the data (zero mean, unit variance)\n",
    "scaler = StandardScaler()\n",
    "X_train_scaled_can = scaler.fit_transform(X_can_train)\n",
    "X_test_scaled_can = scaler.transform(X_can_test)\n",
    "\n",
    "# Create logistic regression object\n",
    "log_regrs = LogisticRegressionGD(eta=0.1, n_iter=100)\n",
    "# Train the model using the training sets\n",
    "log_regrs.fit(X_train_scaled_can, y_can_train)\n",
    "\n",
    "# Make predictions using the testing set\n",
    "Scalcan_y_pred = log_regrs.predict(X_test_scaled_can)\n",
    "\n",
    "# Calculate accuracy and ROC AUC score\n",
    "scan_accuracy = accuracy_score(y_can_test, Scalcan_y_pred)\n",
    "scan_roc_auc = roc_auc_score(y_can_test, log_regrs.predict_proba(X_test_scaled_can))\n",
    "\n",
    "print(f\"Accuracy: {scan_accuracy:.2f}\")\n",
    "print(f\"ROC AUC: {scan_roc_auc:.2f}\")"
   ]
  },
  {
   "cell_type": "code",
   "execution_count": 534,
   "id": "37f347d6",
   "metadata": {},
   "outputs": [
    {
     "data": {
      "image/png": "[encoded data removed]",
      "text/plain": [
       "<Figure size 640x480 with 1 Axes>"
      ]
     },
     "metadata": {},
     "output_type": "display_data"
    }
   ],
   "source": [
    "# Plot ROC curve\n",
    "\n",
    "fpr, tpr, thresholds = roc_curve(y_can_test, log_regr.sigmoid(log_regr.net_input(X_test_scaled_can)))\n",
    "plt.figure()\n",
    "plt.plot(fpr, tpr, color='darkorange', lw=2, label=f'ROC curve (area = {scan_roc_auc:.2f})')\n",
    "plt.plot([0, 1], [0, 1], color='navy', lw=2, linestyle='--')\n",
    "plt.xlim([0.0, 1.0])\n",
    "plt.ylim([0.0, 1.05])\n",
    "plt.xlabel('False Positive Rate')\n",
    "plt.ylabel('True Positive Rate')\n",
    "plt.title('Receiver Operating Characteristic')\n",
    "plt.legend(loc=\"lower right\")\n",
    "plt.show()"
   ]
  },
  {
   "cell_type": "code",
   "execution_count": 521,
   "id": "022a053f",
   "metadata": {},
   "outputs": [
    {
     "name": "stdout",
     "output_type": "stream",
     "text": [
      "\n",
      "Classification Report:\n",
      "              precision    recall  f1-score   support\n",
      "\n",
      "           0       0.95      0.95      0.95        43\n",
      "           1       0.97      0.97      0.97        71\n",
      "\n",
      "    accuracy                           0.96       114\n",
      "   macro avg       0.96      0.96      0.96       114\n",
      "weighted avg       0.96      0.96      0.96       114\n",
      "\n",
      "\n",
      "Confusion Matrix:\n",
      "[[41  2]\n",
      " [ 2 69]]\n"
     ]
    }
   ],
   "source": [
    "set.seed(2)\n",
    "#print metrics \n",
    "print(\"\\nClassification Report:\")\n",
    "print(classification_report(y_can_test, Scalcan_y_pred))\n",
    "print(\"\\nConfusion Matrix:\")\n",
    "print(confusion_matrix(y_can_test, Scalcan_y_pred))"
   ]
  },
  {
   "cell_type": "code",
   "execution_count": null,
   "id": "94f90cb7",
   "metadata": {},
   "outputs": [],
   "source": []
  },
  {
   "cell_type": "markdown",
   "id": "8b3f38d7",
   "metadata": {},
   "source": [
    "There are some algorithms that require data to be scaled and it seemed like logistic and linear regressions are part of that group.\n",
    "\n",
    "when the cancer data scaled my logistic regression model worked almost perfectly with a 96 percent accuracy and an oustanding AUC of 1.0. With 2 false positives and 2 false negatives. Meaning it misclassified only two people out of 114 people to have cancer while they dont and only two people to not have cancer when they really do have cancer. This is an exceptional result however, I would like it to perform much better since those false negative cases if not caught quickly could potentially be fatal to the patients than If caught quickly which would allow for less damage and quicker action to cure the patients. \n",
    "But since this is just practice, I am happy with the results. The AUC plots also show how well the model fits the scaled data. "
   ]
  },
  {
   "cell_type": "code",
   "execution_count": 522,
   "id": "7a6b7b4c",
   "metadata": {},
   "outputs": [
    {
     "name": "stdout",
     "output_type": "stream",
     "text": [
      "Accuracy: 0.9736842105263158\n",
      "\n",
      "Classification Report:\n",
      "              precision    recall  f1-score   support\n",
      "\n",
      "           0       0.98      0.95      0.96        43\n",
      "           1       0.97      0.99      0.98        71\n",
      "\n",
      "    accuracy                           0.97       114\n",
      "   macro avg       0.97      0.97      0.97       114\n",
      "weighted avg       0.97      0.97      0.97       114\n",
      "\n",
      "\n",
      "Confusion Matrix:\n",
      "[[41  2]\n",
      " [ 1 70]]\n"
     ]
    }
   ],
   "source": [
    "#Define the model\n",
    "modelogr = LogisticRegression()\n",
    "\n",
    "#fit it on train data\n",
    "modelogr.fit(X_train_scaled_can, y_can_train)\n",
    "\n",
    "#predit on unseen data\n",
    "skt_y_pred = modelogr.predict(X_test_scaled_can)\n",
    "#compute accuracy \n",
    "skt_accuracy = accuracy_score(y_can_test, skt_y_pred)\n",
    "set.seed(3)\n",
    "\n",
    "#print metrics\n",
    "print(\"Accuracy:\", skt_accuracy)\n",
    "print(\"\\nClassification Report:\")\n",
    "print(classification_report(y_can_test, skt_y_pred))\n",
    "print(\"\\nConfusion Matrix:\")\n",
    "print(confusion_matrix(y_can_test, skt_y_pred))"
   ]
  },
  {
   "cell_type": "markdown",
   "id": "ba1770c9",
   "metadata": {},
   "source": [
    "The Scikit learn model performed just as well as my algorithm with the same accuracy and 2 false positives and 1 false negative. "
   ]
  },
  {
   "cell_type": "code",
   "execution_count": null,
   "id": "22182003",
   "metadata": {},
   "outputs": [],
   "source": []
  }
 ],
 "metadata": {
  "kernelspec": {
   "display_name": "Python 3 (ipykernel)",
   "language": "python",
   "name": "python3"
  },
  "language_info": {
   "codemirror_mode": {
    "name": "ipython",
    "version": 3
   },
   "file_extension": ".py",
   "mimetype": "text/x-python",
   "name": "python",
   "nbconvert_exporter": "python",
   "pygments_lexer": "ipython3",
   "version": "3.11.5"
  }
 },
 "nbformat": 4,
 "nbformat_minor": 5
}
